{
 "cells": [
  {
   "cell_type": "code",
   "execution_count": 1,
   "metadata": {},
   "outputs": [
    {
     "name": "stdout",
     "output_type": "stream",
     "text": [
      "hey\n"
     ]
    },
    {
     "ename": "NameError",
     "evalue": "name 'y' is not defined",
     "output_type": "error",
     "traceback": [
      "\u001b[31m---------------------------------------------------------------------------\u001b[39m",
      "\u001b[31mNameError\u001b[39m                                 Traceback (most recent call last)",
      "\u001b[36mCell\u001b[39m\u001b[36m \u001b[39m\u001b[32mIn[1]\u001b[39m\u001b[32m, line 3\u001b[39m\n\u001b[32m      1\u001b[39m \u001b[38;5;28mprint\u001b[39m(\u001b[33m\"\u001b[39m\u001b[33mhey\u001b[39m\u001b[33m\"\u001b[39m)\n\u001b[32m      2\u001b[39m x=\u001b[32m10\u001b[39m\n\u001b[32m----> \u001b[39m\u001b[32m3\u001b[39m \u001b[38;5;28mprint\u001b[39m(\u001b[43my\u001b[49m)\n",
      "\u001b[31mNameError\u001b[39m: name 'y' is not defined"
     ]
    }
   ],
   "source": [
    "print(\"hey\")\n",
    "x=10\n",
    "print(y)"
   ]
  },
  {
   "cell_type": "code",
   "execution_count": 1,
   "metadata": {},
   "outputs": [
    {
     "name": "stdout",
     "output_type": "stream",
     "text": [
      "hey\n",
      "error\n"
     ]
    }
   ],
   "source": [
    "try: #exception handling\n",
    "    print(\"hey\")\n",
    "    x=10\n",
    "    print(y)\n",
    "    print(\"$$\")\n",
    "except:\n",
    "    print(\"error\")"
   ]
  },
  {
   "cell_type": "code",
   "execution_count": 3,
   "metadata": {},
   "outputs": [
    {
     "ename": "NameError",
     "evalue": "name 'a' is not defined",
     "output_type": "error",
     "traceback": [
      "\u001b[31m---------------------------------------------------------------------------\u001b[39m",
      "\u001b[31mNameError\u001b[39m                                 Traceback (most recent call last)",
      "\u001b[36mCell\u001b[39m\u001b[36m \u001b[39m\u001b[32mIn[3]\u001b[39m\u001b[32m, line 1\u001b[39m\n\u001b[32m----> \u001b[39m\u001b[32m1\u001b[39m \u001b[32m10\u001b[39m+\u001b[43ma\u001b[49m\n",
      "\u001b[31mNameError\u001b[39m: name 'a' is not defined"
     ]
    }
   ],
   "source": [
    "10+a"
   ]
  },
  {
   "cell_type": "code",
   "execution_count": 8,
   "metadata": {},
   "outputs": [
    {
     "name": "stdout",
     "output_type": "stream",
     "text": [
      "hey\n",
      "zero division\n"
     ]
    }
   ],
   "source": [
    "try: #exception handling\n",
    "    print(\"hey\")\n",
    "    x=10\n",
    "   \n",
    "    print(20/0)\n",
    "    print(\"$$\")\n",
    "except NameError:\n",
    "    print(\"error wwil be handled\")\n",
    "except ZeroDivisionError:\n",
    "    print(\"zero division\")"
   ]
  },
  {
   "cell_type": "code",
   "execution_count": 9,
   "metadata": {},
   "outputs": [
    {
     "name": "stdout",
     "output_type": "stream",
     "text": [
      "hey\n",
      "error wwil be handled\n"
     ]
    }
   ],
   "source": [
    "try: #exception handling\n",
    "    print(\"hey\")\n",
    "    x=10\n",
    "   \n",
    "    print(20/0)\n",
    "    print(\"$$\")\n",
    "except (NameError,ZeroDivisionError):\n",
    "    print(\"error wwil be handled\")\n"
   ]
  },
  {
   "cell_type": "code",
   "execution_count": 11,
   "metadata": {},
   "outputs": [
    {
     "name": "stdout",
     "output_type": "stream",
     "text": [
      "hey\n",
      "error wwil be handled:  division by zero\n"
     ]
    }
   ],
   "source": [
    "try: #exception handling\n",
    "    print(\"hey\")\n",
    "    x=10\n",
    "   \n",
    "    print(20/0)\n",
    "    print(\"$$\")\n",
    "except (NameError,ZeroDivisionError) as x:\n",
    "    print(\"error wwil be handled: \",x)"
   ]
  },
  {
   "cell_type": "code",
   "execution_count": 12,
   "metadata": {},
   "outputs": [
    {
     "name": "stdout",
     "output_type": "stream",
     "text": [
      "hey\n",
      "error wwil be handled:  name 'ukk' is not defined\n"
     ]
    }
   ],
   "source": [
    "try: #exception handling\n",
    "    print(\"hey\")\n",
    "    x=10\n",
    "   \n",
    "    print(ukk)\n",
    "    print(\"$$\")\n",
    "except (NameError,ZeroDivisionError) as y:\n",
    "    print(\"error wwil be handled: \",y)"
   ]
  },
  {
   "cell_type": "code",
   "execution_count": null,
   "metadata": {},
   "outputs": [
    {
     "name": "stdout",
     "output_type": "stream",
     "text": [
      "hey\n",
      "nested try statement error handled\n",
      "$$\n"
     ]
    }
   ],
   "source": [
    "try: #exception handling # nested try catch\n",
    "    print(\"hey\")\n",
    "    try:\n",
    "        print(ujj)\n",
    "    except:\n",
    "        print(\"nested try statement error handled\")\n",
    "        print(\"$$\")\n",
    "except (NameError,ZeroDivisionError):\n",
    "    print(\"error wwil be handled\")"
   ]
  },
  {
   "cell_type": "code",
   "execution_count": null,
   "metadata": {},
   "outputs": [
    {
     "name": "stdout",
     "output_type": "stream",
     "text": [
      "hey\n",
      "esha\n",
      "$$\n",
      "this is else block\n"
     ]
    }
   ],
   "source": [
    "try:\n",
    "    print(\"hey\")\n",
    "    print(\"esha\")\n",
    "    print(\"$$\")\n",
    "except:\n",
    "    print(\"error will bhe handled\")\n",
    "else: #if no error in try block\n",
    "    print(\"this is else block\")"
   ]
  },
  {
   "cell_type": "code",
   "execution_count": null,
   "metadata": {},
   "outputs": [
    {
     "name": "stdout",
     "output_type": "stream",
     "text": [
      "hey\n",
      "esha\n",
      "$$\n",
      "this is finally block\n"
     ]
    }
   ],
   "source": [
    "try:\n",
    "    print(\"hey\")\n",
    "    print(\"esha\")\n",
    "    print(\"$$\")\n",
    "except:\n",
    "    print(\"error will bhe handled\")\n",
    "finally: #this exequtes  every time chahe error ho ya nhi ho\n",
    "    print(\"this is finally block\")"
   ]
  },
  {
   "cell_type": "code",
   "execution_count": 18,
   "metadata": {},
   "outputs": [
    {
     "name": "stdout",
     "output_type": "stream",
     "text": [
      " error for age is less than 18\n"
     ]
    }
   ],
   "source": [
    "#raise keyword\n",
    "age = int(input(\"enter the age\"))\n",
    "try:\n",
    "    if(age<18):\n",
    "        raise ValueError\n",
    "    else:\n",
    "        print(\"age is > 18 and can vote\")\n",
    "except ValueError:\n",
    "    print(\" error for age is less than 18\")"
   ]
  },
  {
   "cell_type": "code",
   "execution_count": 22,
   "metadata": {},
   "outputs": [
    {
     "name": "stdout",
     "output_type": "stream",
     "text": [
      "['10', 'aman', 'aman@gmail.com\\n']\n",
      "['20', 'tushar', 'tushar@gmail.com']\n"
     ]
    }
   ],
   "source": [
    "with open(\"y1.txt\",\"r\") as f:\n",
    "    for line in f:\n",
    "        print(line.split(\",\"))"
   ]
  },
  {
   "cell_type": "code",
   "execution_count": 25,
   "metadata": {},
   "outputs": [
    {
     "data": {
      "text/plain": [
       "'10_aman_aman@gmail.com\\n'"
      ]
     },
     "execution_count": 25,
     "metadata": {},
     "output_type": "execute_result"
    }
   ],
   "source": [
    "y=['10', 'aman', 'aman@gmail.com\\n']\n",
    "\"_\".join(y)"
   ]
  },
  {
   "cell_type": "code",
   "execution_count": 26,
   "metadata": {},
   "outputs": [
    {
     "name": "stdout",
     "output_type": "stream",
     "text": [
      "['10', 'aman', 'aman@gmail.com']\n",
      "['20', 'tushar', 'tushar@gmail.com']\n"
     ]
    }
   ],
   "source": [
    "with open(\"y1.txt\",\"r\") as f:\n",
    "    for line in f:\n",
    "        print(line.strip().split(\",\"))"
   ]
  },
  {
   "cell_type": "code",
   "execution_count": 28,
   "metadata": {},
   "outputs": [
    {
     "name": "stdout",
     "output_type": "stream",
     "text": [
      "10\n",
      "aman\n",
      "aman@gmail.com\n",
      "20\n",
      "tushar\n",
      "tushar@gmail.com\n"
     ]
    }
   ],
   "source": [
    "with open(\"y1.txt\",\"r\") as f:\n",
    "    for line in f:\n",
    "        for word in line.strip().split(\",\"):\n",
    "            print(word)"
   ]
  },
  {
   "cell_type": "code",
   "execution_count": null,
   "metadata": {},
   "outputs": [
    {
     "name": "stdout",
     "output_type": "stream",
     "text": [
      "id is: 10 email is: aman@gmail.com\n",
      "id is: 20 email is: tushar@gmail.com\n"
     ]
    }
   ],
   "source": [
    "with open(\"y1.txt\",\"r\") as f:\n",
    "    for line in f:\n",
    "        mylist= line.strip().split(\",\")\n",
    "        print(f\"id is:\",mylist[0],\"email is:\",mylist[2]) #reading the csv file"
   ]
  },
  {
   "cell_type": "code",
   "execution_count": 37,
   "metadata": {},
   "outputs": [
    {
     "name": "stdout",
     "output_type": "stream",
     "text": [
      "id is: 10 email is: aman@gmail.com\n",
      "id is: 20 email is: tushar@gmail.com\n"
     ]
    }
   ],
   "source": [
    "import csv\n",
    "\n",
    "with open(\"y1.txt\",\"r\") as f:\n",
    "    f_csv= csv.reader(f)\n",
    "    for x in f_csv:\n",
    "         print(f\"id is:\",x[0],\"email is:\",x[2]) "
   ]
  }
 ],
 "metadata": {
  "kernelspec": {
   "display_name": "Python 3",
   "language": "python",
   "name": "python3"
  },
  "language_info": {
   "codemirror_mode": {
    "name": "ipython",
    "version": 3
   },
   "file_extension": ".py",
   "mimetype": "text/x-python",
   "name": "python",
   "nbconvert_exporter": "python",
   "pygments_lexer": "ipython3",
   "version": "3.13.1"
  }
 },
 "nbformat": 4,
 "nbformat_minor": 2
}
