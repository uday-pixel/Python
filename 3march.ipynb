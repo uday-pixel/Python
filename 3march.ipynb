{
 "cells": [
  {
   "cell_type": "code",
   "execution_count": 18,
   "metadata": {},
   "outputs": [
    {
     "name": "stdout",
     "output_type": "stream",
     "text": [
      "hey##########\n"
     ]
    }
   ],
   "source": [
    "f=open(\"y2.txt\",\"r\")\n",
    "print(f.read())\n",
    "f.close()"
   ]
  },
  {
   "cell_type": "code",
   "execution_count": 19,
   "metadata": {},
   "outputs": [
    {
     "name": "stdout",
     "output_type": "stream",
     "text": [
      "hey##########\n"
     ]
    }
   ],
   "source": [
    "f=open(\"y2.txt\",\"r\")\n",
    "print(f.read())\n"
   ]
  },
  {
   "cell_type": "code",
   "execution_count": 20,
   "metadata": {},
   "outputs": [
    {
     "name": "stdout",
     "output_type": "stream",
     "text": [
      "2\n"
     ]
    }
   ],
   "source": [
    "with open(\"y2.txt\",\"a\") as f:\n",
    "    print(f.write(\"##\"))\n"
   ]
  },
  {
   "cell_type": "code",
   "execution_count": 21,
   "metadata": {},
   "outputs": [
    {
     "ename": "TypeError",
     "evalue": "unsupported operand type(s) for //: 'range' and 'int'",
     "output_type": "error",
     "traceback": [
      "\u001b[31m---------------------------------------------------------------------------\u001b[39m",
      "\u001b[31mTypeError\u001b[39m                                 Traceback (most recent call last)",
      "\u001b[36mCell\u001b[39m\u001b[36m \u001b[39m\u001b[32mIn[21]\u001b[39m\u001b[32m, line 7\u001b[39m\n\u001b[32m      4\u001b[39m \u001b[38;5;28;01mfor\u001b[39;00m i \u001b[38;5;129;01min\u001b[39;00m \u001b[38;5;28mrange\u001b[39m(\u001b[32m0\u001b[39m,\u001b[38;5;28mlen\u001b[39m(s)//\u001b[32m2\u001b[39m):\n\u001b[32m      5\u001b[39m     b=b+s[i]\n\u001b[32m----> \u001b[39m\u001b[32m7\u001b[39m \u001b[38;5;28;01mfor\u001b[39;00m j \u001b[38;5;129;01min\u001b[39;00m \u001b[38;5;28;43mrange\u001b[39;49m\u001b[43m(\u001b[49m\u001b[38;5;28;43mlen\u001b[39;49m\u001b[43m(\u001b[49m\u001b[43ms\u001b[49m\u001b[43m)\u001b[49m\u001b[43m)\u001b[49m\u001b[43m/\u001b[49m\u001b[43m/\u001b[49m\u001b[32;43m2\u001b[39;49m,\u001b[38;5;28mlen\u001b[39m(s):\n\u001b[32m      8\u001b[39m     c=c+s[j]\n",
      "\u001b[31mTypeError\u001b[39m: unsupported operand type(s) for //: 'range' and 'int'"
     ]
    }
   ],
   "source": [
    "s = \"masimasi\" #string symmetric #string half\n",
    "b=\"\"\n",
    "c=\"\"\n",
    "for i in range(0,len(s)//2):\n",
    "    b=b+s[i]\n",
    "\n",
    "for j in range(len(s))//2,len(s):\n",
    "    c=c+s[j]\n",
    "\n",
    "\n",
    "\n",
    " \n",
    "   \n"
   ]
  },
  {
   "cell_type": "code",
   "execution_count": null,
   "metadata": {},
   "outputs": [
    {
     "name": "stdout",
     "output_type": "stream",
     "text": [
      "******\n",
      "*    *\n",
      "*    *\n",
      "******\n"
     ]
    }
   ],
   "source": [
    "n=4\n",
    "for i in range(n):\n",
    "    for j in range(1,7):\n",
    "        if(i==0 or i==3 or j==1 or j==6):\n",
    "            print(\"*\",end =\"\")\n",
    "        else:\n",
    "            print(\" \",end=\"\")\n",
    "      \n",
    "    print()"
   ]
  },
  {
   "cell_type": "markdown",
   "metadata": {},
   "source": [
    "open(\"y1.txt\",\"r\")"
   ]
  },
  {
   "cell_type": "code",
   "execution_count": null,
   "metadata": {},
   "outputs": [
    {
     "name": "stdout",
     "output_type": "stream",
     "text": [
      "heyy\n"
     ]
    }
   ],
   "source": [
    "z=open(r\"C:\\Users\\pk333\\Downloads\\python\\y1.txt\",\"r\")\n",
    "print(z.read())\n",
    "z.close()"
   ]
  },
  {
   "cell_type": "code",
   "execution_count": null,
   "metadata": {},
   "outputs": [
    {
     "name": "stdout",
     "output_type": "stream",
     "text": [
      "heyy\n"
     ]
    }
   ],
   "source": [
    "z=open(r\"C:\\Users\\pk333\\Downloads\\python\\y1.txt\",\"r\")\n",
    "x=z.read()\n",
    "z.close()\n",
    "\n",
    "print(x)\n"
   ]
  },
  {
   "cell_type": "code",
   "execution_count": null,
   "metadata": {},
   "outputs": [
    {
     "ename": "UnsupportedOperation",
     "evalue": "not writable",
     "output_type": "error",
     "traceback": [
      "\u001b[31m---------------------------------------------------------------------------\u001b[39m",
      "\u001b[31mUnsupportedOperation\u001b[39m                      Traceback (most recent call last)",
      "\u001b[36mCell\u001b[39m\u001b[36m \u001b[39m\u001b[32mIn[14]\u001b[39m\u001b[32m, line 3\u001b[39m\n\u001b[32m      1\u001b[39m z=\u001b[38;5;28mopen\u001b[39m(\u001b[33mr\u001b[39m\u001b[33m\"\u001b[39m\u001b[33mC:\u001b[39m\u001b[33m\\\u001b[39m\u001b[33mUsers\u001b[39m\u001b[33m\\\u001b[39m\u001b[33mpk333\u001b[39m\u001b[33m\\\u001b[39m\u001b[33mDownloads\u001b[39m\u001b[33m\\\u001b[39m\u001b[33mpython\u001b[39m\u001b[33m\\\u001b[39m\u001b[33my1.txt\u001b[39m\u001b[33m\"\u001b[39m,\u001b[33m\"\u001b[39m\u001b[33mr\u001b[39m\u001b[33m\"\u001b[39m)\n\u001b[32m      2\u001b[39m x=z.read()\n\u001b[32m----> \u001b[39m\u001b[32m3\u001b[39m \u001b[43mz\u001b[49m\u001b[43m.\u001b[49m\u001b[43mwrite\u001b[49m\u001b[43m(\u001b[49m\u001b[33;43m\"\u001b[39;49m\u001b[33;43mkbsdcbscbh\u001b[39;49m\u001b[33;43m\"\u001b[39;49m\u001b[43m)\u001b[49m\n\u001b[32m      4\u001b[39m z.close()\n\u001b[32m      6\u001b[39m \u001b[38;5;28mprint\u001b[39m(x)\n",
      "\u001b[31mUnsupportedOperation\u001b[39m: not writable"
     ]
    }
   ],
   "source": [
    "z=open(r\"C:\\Users\\pk333\\Downloads\\python\\y1.txt\",\"r\")\n",
    "x=z.read()\n",
    "z.write(\"kbsdcbscbh\")\n",
    "z.close()\n",
    "\n",
    "print(x)"
   ]
  },
  {
   "cell_type": "code",
   "execution_count": 24,
   "metadata": {},
   "outputs": [
    {
     "name": "stdout",
     "output_type": "stream",
     "text": [
      "udayjewknw\n",
      "None\n"
     ]
    }
   ],
   "source": [
    "z=open(r\"C:\\Users\\pk333\\Downloads\\python\\y1.txt\",\"r+\")\n",
    "out=print(z.read())\n",
    "z.write(\"jewknw\")\n",
    "z.close()\n",
    "\n",
    "print(out)"
   ]
  },
  {
   "cell_type": "code",
   "execution_count": 28,
   "metadata": {},
   "outputs": [
    {
     "name": "stdout",
     "output_type": "stream",
     "text": [
      "l himanca\n",
      "None\n"
     ]
    }
   ],
   "source": [
    "z=open(r\"C:\\Users\\pk333\\Downloads\\python\\y1.txt\",\"r+\")\n",
    "\n",
    "z.write(\"jaipur\")\n",
    "out=print(z.read())\n",
    "z.close()\n",
    "\n",
    "print(out)"
   ]
  },
  {
   "cell_type": "code",
   "execution_count": 29,
   "metadata": {},
   "outputs": [
    {
     "name": "stdout",
     "output_type": "stream",
     "text": [
      "\n",
      "None\n"
     ]
    }
   ],
   "source": [
    "z=open(r\"C:\\Users\\pk333\\Downloads\\python\\y1.txt\",\"w+\")\n",
    "\n",
    "\n",
    "out=print(z.read())\n",
    "z.close()\n",
    "\n",
    "print(out)"
   ]
  },
  {
   "cell_type": "code",
   "execution_count": null,
   "metadata": {},
   "outputs": [
    {
     "name": "stdout",
     "output_type": "stream",
     "text": [
      "\n",
      "None\n"
     ]
    }
   ],
   "source": [
    "z=open(r\"C:\\Users\\pk333\\Downloads\\python\\y1.txt\",\"w+\")\n",
    "\n",
    "z.write(\"jaipur\")\n",
    "out=print(z.read())\n",
    "z.close()\n",
    "\n",
    "print(out)"
   ]
  },
  {
   "cell_type": "code",
   "execution_count": 32,
   "metadata": {},
   "outputs": [
    {
     "name": "stdout",
     "output_type": "stream",
     "text": [
      "1 st position  0\n",
      "2 st position  6\n",
      "\n",
      "3 st position  6\n",
      "None\n"
     ]
    }
   ],
   "source": [
    "z=open(r\"C:\\Users\\pk333\\Downloads\\python\\y1.txt\",\"w+\")\n",
    "print(\"1 st position \",z.tell())\n",
    "z.write(\"jaipur\")\n",
    "print(\"2 st position \",z.tell())\n",
    "out=print(z.read())\n",
    "print(\"3 st position \",z.tell())\n",
    "z.close()\n",
    "\n",
    "print(out)"
   ]
  },
  {
   "cell_type": "code",
   "execution_count": null,
   "metadata": {},
   "outputs": [
    {
     "name": "stdout",
     "output_type": "stream",
     "text": [
      "\n",
      "1 st position  0\n",
      "2 st position  16\n",
      "2 st position  10\n",
      "None\n"
     ]
    }
   ],
   "source": [
    "z=open(r\"C:\\Users\\pk333\\Downloads\\python\\y1.txt\",\"w+\")\n",
    "out=print(z.read())\n",
    "print(\"1 st position \",z.tell())\n",
    "\n",
    "z.write(\"rajasthan jaipur\")\n",
    "print(\"2 st position \",z.tell())\n",
    "\n",
    "z.seek(10)\n",
    "print(\"3 st position \",z.tell())\n",
    "z.close()\n",
    "\n",
    "print(out)"
   ]
  },
  {
   "cell_type": "code",
   "execution_count": null,
   "metadata": {},
   "outputs": [
    {
     "name": "stdout",
     "output_type": "stream",
     "text": [
      "\n",
      "None\n"
     ]
    }
   ],
   "source": [
    "\n",
    "z=open(r\"C:\\Users\\pk333\\Downloads\\python\\y1.txt\",\"a  \")\n",
    "\n",
    "z.write(\"jaipur\")\n",
    "print(z.read())\n",
    "z.close()\n",
    "\n",
    "print(out)"
   ]
  },
  {
   "cell_type": "code",
   "execution_count": null,
   "metadata": {},
   "outputs": [],
   "source": [
    "with open(\"y1.txt\",\"a\") as z:\n",
    "    z.write(\"$$\")"
   ]
  },
  {
   "cell_type": "code",
   "execution_count": 45,
   "metadata": {},
   "outputs": [
    {
     "name": "stdout",
     "output_type": "stream",
     "text": [
      "rajasthan jaipurjaipurjaipurjaipurjaipur##\n",
      "lksmckms\n",
      "dcjc\n"
     ]
    }
   ],
   "source": [
    "with open(\"y1.txt\",\"r\") as z:\n",
    "    print(z.read())\n"
   ]
  },
  {
   "cell_type": "code",
   "execution_count": null,
   "metadata": {},
   "outputs": [],
   "source": []
  },
  {
   "cell_type": "code",
   "execution_count": 44,
   "metadata": {},
   "outputs": [
    {
     "name": "stdout",
     "output_type": "stream",
     "text": [
      "rajasthan jaipurjaipurjaipurjaipurjaipur##\n",
      "\n",
      "lksmckms\n",
      "\n",
      "dcjc\n"
     ]
    }
   ],
   "source": [
    "with open(\"y1.txt\",\"r\") as z:\n",
    "    print(z.readline())\n",
    "    print(z.readline())\n",
    "    print(z.readline())"
   ]
  },
  {
   "cell_type": "code",
   "execution_count": 46,
   "metadata": {},
   "outputs": [
    {
     "name": "stdout",
     "output_type": "stream",
     "text": [
      "rajasthan jaipurjaipurjaipurjaipurjaipur##\n",
      "\n",
      "lksmckms\n",
      "\n",
      "dcjc\n"
     ]
    }
   ],
   "source": [
    "with open(\"y1.txt\",\"r\") as z:\n",
    "     for line in z:\n",
    "          print(line)"
   ]
  },
  {
   "cell_type": "code",
   "execution_count": 47,
   "metadata": {},
   "outputs": [
    {
     "name": "stdout",
     "output_type": "stream",
     "text": [
      "['rajasthan jaipurjaipurjaipurjaipurjaipur##\\n', 'lksmckms\\n', 'dcjc']\n"
     ]
    }
   ],
   "source": [
    "with open(\"y1.txt\",\"r\") as z:\n",
    "          print(z.readlines())"
   ]
  },
  {
   "cell_type": "code",
   "execution_count": 51,
   "metadata": {},
   "outputs": [
    {
     "name": "stdout",
     "output_type": "stream",
     "text": [
      "rajasthan jaipurjaipurjaipurjaipurjaipur##\n",
      "lksmckms\n",
      "dcjc\n"
     ]
    }
   ],
   "source": [
    "with open(\"y1.txt\",\"r\") as z:\n",
    "    for line in z.readlines():\n",
    "        print(line.strip())"
   ]
  }
 ],
 "metadata": {
  "kernelspec": {
   "display_name": "Python 3",
   "language": "python",
   "name": "python3"
  },
  "language_info": {
   "codemirror_mode": {
    "name": "ipython",
    "version": 3
   },
   "file_extension": ".py",
   "mimetype": "text/x-python",
   "name": "python",
   "nbconvert_exporter": "python",
   "pygments_lexer": "ipython3",
   "version": "3.13.1"
  }
 },
 "nbformat": 4,
 "nbformat_minor": 2
}
