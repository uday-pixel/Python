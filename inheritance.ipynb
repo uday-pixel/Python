{
 "cells": [
  {
   "cell_type": "code",
   "execution_count": null,
   "metadata": {},
   "outputs": [],
   "source": [
    "class A:\n",
    "    num1=int(input(\"enter the 1st no\"))\n",
    "    num2=int(input(\"enter the 1st no\"))\n",
    "\n",
    "    def add(self):\n",
    "        print(\"addition: \",self.num1+self.num2)\n",
    "    def sub(self):\n",
    "        print(\"subtraction \",self.num1-self.num2)\n",
    "\n",
    "class B(A):\n",
    "\n",
    "    def multi(self):\n",
    "        print(\"multiplication: \",self.num1*self.num2)\n",
    "    def div(self):\n",
    "        print(\"divison \",self.num1/self.num2)\n",
    "\n",
    "\n",
    "obj=B()\n",
    "obj.add()\n",
    "obj.sub()\n",
    "obj.multi()\n",
    "obj.div()\n",
    "#single level inheritance"
   ]
  },
  {
   "cell_type": "code",
   "execution_count": null,
   "metadata": {},
   "outputs": [
    {
     "name": "stdout",
     "output_type": "stream",
     "text": [
      "akash verma\n",
      "ankit verma\n",
      "akash verma\n"
     ]
    }
   ],
   "source": [
    "class Father:\n",
    "    surname=\"verma\"\n",
    "class Son(Father):\n",
    "    def show(self):\n",
    "        print(\"akash\",self.surname)\n",
    "class Gson(Son):\n",
    "    def sho(self):\n",
    "        print(\"ankit\",self.surname)\n",
    "    \n",
    "a=Son()\n",
    "a.show()\n",
    "\n",
    "b=Gson()\n",
    "b.sho()\n",
    "b.show()\n",
    "#multi-level inheritance"
   ]
  },
  {
   "cell_type": "code",
   "execution_count": null,
   "metadata": {},
   "outputs": [],
   "source": [
    "class Akhilesh:\n",
    "    back=\"oracle db & java\"\n",
    "    def backend(self):\n",
    "        print(\"backend implemnentation using\",self.back)\n",
    "class Ankush:\n",
    "    front=\"html css and javascript\"\n",
    "    def frontend(self):\n",
    "        print(\"frontend implemeting using\",self.front)\n",
    "class TeamLead(Akhilesh,Ankush):\n",
    "    def show(self):\n",
    "        print(\"dynamic website\")\n",
    "\n",
    "a=TeamLead()\n",
    "a.frontend()\n",
    "a.backend()\n",
    "a.show()\n",
    "#multiple inheritance"
   ]
  },
  {
   "cell_type": "code",
   "execution_count": null,
   "metadata": {},
   "outputs": [],
   "source": [
    "class Father:\n",
    "    surname=\"verma\"\n",
    "    def show (self):\n",
    "        print(\"my surnme is\",self.surname)\n",
    "class Son1(Father):\n",
    "    def sho(self):\n",
    "        print(\"Ankit\",self.surname)\n",
    "class Son2(Father):\n",
    "    def so(self):\n",
    "        print(\"ankush\",self.surname)\n",
    "\n",
    "s1=Son1()\n",
    "s2=Son2()\n",
    " \n",
    "s1.sho()\n",
    "s2.so()\n",
    "#hierarirical inheritance"
   ]
  },
  {
   "cell_type": "code",
   "execution_count": null,
   "metadata": {},
   "outputs": [],
   "source": []
  }
 ],
 "metadata": {
  "kernelspec": {
   "display_name": "Python 3",
   "language": "python",
   "name": "python3"
  },
  "language_info": {
   "codemirror_mode": {
    "name": "ipython",
    "version": 3
   },
   "file_extension": ".py",
   "mimetype": "text/x-python",
   "name": "python",
   "nbconvert_exporter": "python",
   "pygments_lexer": "ipython3",
   "version": "3.13.1"
  }
 },
 "nbformat": 4,
 "nbformat_minor": 2
}
