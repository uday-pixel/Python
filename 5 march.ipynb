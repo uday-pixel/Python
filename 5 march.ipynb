{
 "cells": [
  {
   "cell_type": "code",
   "execution_count": 2,
   "metadata": {},
   "outputs": [],
   "source": [
    "class HouseBlueprint:\n",
    "    owner=\"tushar\"\n",
    "    location=\"jaipur\"\n",
    "    "
   ]
  },
  {
   "cell_type": "code",
   "execution_count": 4,
   "metadata": {},
   "outputs": [
    {
     "name": "stdout",
     "output_type": "stream",
     "text": [
      "tushar\n",
      "jaipur\n"
     ]
    }
   ],
   "source": [
    "house1=HouseBlueprint() #object = class()\n",
    "print(house1.owner)\n",
    "print(house1.location)"
   ]
  },
  {
   "cell_type": "code",
   "execution_count": 6,
   "metadata": {},
   "outputs": [
    {
     "name": "stdout",
     "output_type": "stream",
     "text": [
      "tushar\n"
     ]
    }
   ],
   "source": [
    "house2=HouseBlueprint()\n",
    "print(house2.owner)"
   ]
  },
  {
   "cell_type": "code",
   "execution_count": 9,
   "metadata": {},
   "outputs": [
    {
     "name": "stdout",
     "output_type": "stream",
     "text": [
      "jaipur\n"
     ]
    },
    {
     "data": {
      "text/plain": [
       "'tushar'"
      ]
     },
     "execution_count": 9,
     "metadata": {},
     "output_type": "execute_result"
    }
   ],
   "source": [
    "print(HouseBlueprint.location)\n",
    "HouseBlueprint.owner"
   ]
  },
  {
   "cell_type": "code",
   "execution_count": 13,
   "metadata": {},
   "outputs": [
    {
     "name": "stdout",
     "output_type": "stream",
     "text": [
      "before  tushar\n",
      "after  uday\n"
     ]
    }
   ],
   "source": [
    "house1=HouseBlueprint()\n",
    "print(\"before \",house1.owner)\n",
    "house1.owner=\"uday\"\n",
    "print(\"after \",house1.owner)"
   ]
  },
  {
   "cell_type": "code",
   "execution_count": null,
   "metadata": {},
   "outputs": [],
   "source": [
    "class HouseBlueprint:\n",
    "    color=\"white\"\n",
    "\n",
    "    def info(self):\n",
    "        print(\"my house color is \",self.color)\n"
   ]
  },
  {
   "cell_type": "code",
   "execution_count": 18,
   "metadata": {},
   "outputs": [
    {
     "name": "stdout",
     "output_type": "stream",
     "text": [
      "my house colr is  blue\n"
     ]
    }
   ],
   "source": [
    "h1=HouseBlueprint()\n",
    "h1.color=\"blue\"\n",
    "h1.info()\n"
   ]
  },
  {
   "cell_type": "code",
   "execution_count": 26,
   "metadata": {},
   "outputs": [],
   "source": [
    "#parameterized function\n",
    "class HouseBlueprint:\n",
    "    def __init__(self):\n",
    "        print(\"constructor\",self)"
   ]
  },
  {
   "cell_type": "code",
   "execution_count": null,
   "metadata": {},
   "outputs": [
    {
     "name": "stdout",
     "output_type": "stream",
     "text": [
      "constructor <__main__.HouseBlueprint object at 0x0000022B6C461FD0>\n",
      "<__main__.HouseBlueprint object at 0x0000022B6C461FD0>\n"
     ]
    }
   ],
   "source": [
    "house1=HouseBlueprint()#-> calling consructor ()\n",
    "print(house1)\n",
    "\n"
   ]
  },
  {
   "cell_type": "code",
   "execution_count": 31,
   "metadata": {},
   "outputs": [],
   "source": [
    "class HouseBlueprint:\n",
    "    color=\"\"\n",
    "    def __init__(self,x):\n",
    "       self.color=x\n"
   ]
  },
  {
   "cell_type": "code",
   "execution_count": 32,
   "metadata": {},
   "outputs": [
    {
     "name": "stdout",
     "output_type": "stream",
     "text": [
      "yellow\n"
     ]
    }
   ],
   "source": [
    "h1=HouseBlueprint(\"yellow\")\n",
    "print(h1.color)"
   ]
  },
  {
   "cell_type": "code",
   "execution_count": 38,
   "metadata": {},
   "outputs": [
    {
     "name": "stdout",
     "output_type": "stream",
     "text": [
      "vermauday@gmail.com uday 20\n",
      "vermauday@gmail.com uday 20\n"
     ]
    }
   ],
   "source": [
    "class Employees:\n",
    "    email_id=\"\"\n",
    "    name=\"\"\n",
    "    id=\"\"\n",
    "    def __init__(self,x,y,z):\n",
    "        self.email_id=x\n",
    "        self.name=y\n",
    "        self.id=z\n",
    "    \n",
    "h1=Employees(\"vermauday@gmail.com\",\"uday\",\"20\")\n",
    "print(h1.email_id,h1.name,h1.id)\n",
    "\n",
    "h2=Employees(\"vermauday@gmail.com\",\"uday\",\"20\")\n",
    "print(h1.email_id,h1.name,h1.id)\n",
    "\n"
   ]
  }
 ],
 "metadata": {
  "kernelspec": {
   "display_name": "Python 3",
   "language": "python",
   "name": "python3"
  },
  "language_info": {
   "codemirror_mode": {
    "name": "ipython",
    "version": 3
   },
   "file_extension": ".py",
   "mimetype": "text/x-python",
   "name": "python",
   "nbconvert_exporter": "python",
   "pygments_lexer": "ipython3",
   "version": "3.13.1"
  }
 },
 "nbformat": 4,
 "nbformat_minor": 2
}
